{
 "cells": [
  {
   "cell_type": "code",
   "execution_count": null,
   "id": "c484d3da-74b2-414d-908b-08eb4c14d6dc",
   "metadata": {},
   "outputs": [],
   "source": [
    "import tensorflow as tf\n",
    "from tensorflow.keras.models import Sequential\n",
    "from tensorflow.keras.layers import LSTM, Dense, Dropout"
   ]
  },
  {
   "cell_type": "code",
   "execution_count": null,
   "id": "e5a31964-e7f0-42ca-8c18-31f46b19404e",
   "metadata": {},
   "outputs": [],
   "source": [
    "def create_random_windows(group, window_size):\n",
    "    max_possible = group.shape[0] - window_size\n",
    "    if max_possible < 1:\n",
    "        return None  # Not enough data to create a window\n",
    "    start_index = np.random.randint(0, max_possible)\n",
    "    return group.iloc[start_index:start_index + window_size]\n",
    "\n",
    "# Metadata for the windowing and network\n",
    "num_device_categories = 3\n",
    "num_input_parameters = 47\n",
    "num_recur_hours = 24\n",
    "\n",
    "# Group by house number and apply the function\n",
    "random_windows = data_sorted.groupby('HouseNum').apply(create_random_windows)\n",
    "random_windows = random_windows.dropna()  # Remove groups that didn't have enough data"
   ]
  },
  {
   "cell_type": "code",
   "execution_count": null,
   "id": "f8e36870-183f-44d6-80ac-0093dac02165",
   "metadata": {},
   "outputs": [],
   "source": [
    "# Two layer LSTM model\n",
    "model = Sequential([\n",
    "    LSTM(100, return_sequences=True, input_shape=(num_recur_hours, num_input_parameters)),\n",
    "    Dropout(0.2),\n",
    "    LSTM(50),\n",
    "    Dropout(0.2),\n",
    "    Dense(num_device_categories, activation='softmax')\n",
    "])\n",
    "\n",
    "# Adam optimizer, crossentropy loss\n",
    "model.compile(optimizer='adam', loss='categorical_crossentropy', metrics=['accuracy'])\n",
    "model.summary()"
   ]
  }
 ],
 "metadata": {
  "kernelspec": {
   "display_name": "Python 3 (ipykernel)",
   "language": "python",
   "name": "python3"
  },
  "language_info": {
   "codemirror_mode": {
    "name": "ipython",
    "version": 3
   },
   "file_extension": ".py",
   "mimetype": "text/x-python",
   "name": "python",
   "nbconvert_exporter": "python",
   "pygments_lexer": "ipython3",
   "version": "3.8.18"
  }
 },
 "nbformat": 4,
 "nbformat_minor": 5
}
