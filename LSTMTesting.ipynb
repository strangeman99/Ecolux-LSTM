{
  "cells": [
    {
      "cell_type": "code",
      "source": [
        "#only run this to mount the drive\n",
        "from google.colab import drive\n",
        "drive.mount('/content/drive')"
      ],
      "metadata": {
        "colab": {
          "base_uri": "https://localhost:8080/"
        },
        "id": "-fyWm5EoESn0",
        "outputId": "4cae71e2-8ef3-4972-b8c3-b9fd1cecc0b6"
      },
      "id": "-fyWm5EoESn0",
      "execution_count": 2,
      "outputs": [
        {
          "output_type": "stream",
          "name": "stdout",
          "text": [
            "Mounted at /content/drive\n"
          ]
        }
      ]
    },
    {
      "cell_type": "code",
      "execution_count": 18,
      "id": "c484d3da-74b2-414d-908b-08eb4c14d6dc",
      "metadata": {
        "id": "c484d3da-74b2-414d-908b-08eb4c14d6dc"
      },
      "outputs": [],
      "source": [
        "import tensorflow as tf\n",
        "from tensorflow.keras.models import Sequential\n",
        "from tensorflow.keras.layers import LSTM, Dense, Dropout\n",
        "import numpy as np\n",
        "from sklearn.utils import shuffle"
      ]
    },
    {
      "cell_type": "code",
      "source": [
        "device_name = tf.test.gpu_device_name()\n",
        "if device_name != '/device:GPU:0':\n",
        "  raise SystemError('GPU device not found')\n",
        "print('Found GPU at: {}'.format(device_name))"
      ],
      "metadata": {
        "id": "przRDTUm1Ph9",
        "outputId": "9fb02fcc-a905-4448-986c-05cfcc00865f",
        "colab": {
          "base_uri": "https://localhost:8080/",
          "height": 193
        }
      },
      "id": "przRDTUm1Ph9",
      "execution_count": 3,
      "outputs": [
        {
          "output_type": "error",
          "ename": "SystemError",
          "evalue": "GPU device not found",
          "traceback": [
            "\u001b[0;31m---------------------------------------------------------------------------\u001b[0m",
            "\u001b[0;31mSystemError\u001b[0m                               Traceback (most recent call last)",
            "\u001b[0;32m<ipython-input-3-ce08ddae0a7d>\u001b[0m in \u001b[0;36m<cell line: 2>\u001b[0;34m()\u001b[0m\n\u001b[1;32m      1\u001b[0m \u001b[0mdevice_name\u001b[0m \u001b[0;34m=\u001b[0m \u001b[0mtf\u001b[0m\u001b[0;34m.\u001b[0m\u001b[0mtest\u001b[0m\u001b[0;34m.\u001b[0m\u001b[0mgpu_device_name\u001b[0m\u001b[0;34m(\u001b[0m\u001b[0;34m)\u001b[0m\u001b[0;34m\u001b[0m\u001b[0;34m\u001b[0m\u001b[0m\n\u001b[1;32m      2\u001b[0m \u001b[0;32mif\u001b[0m \u001b[0mdevice_name\u001b[0m \u001b[0;34m!=\u001b[0m \u001b[0;34m'/device:GPU:0'\u001b[0m\u001b[0;34m:\u001b[0m\u001b[0;34m\u001b[0m\u001b[0;34m\u001b[0m\u001b[0m\n\u001b[0;32m----> 3\u001b[0;31m   \u001b[0;32mraise\u001b[0m \u001b[0mSystemError\u001b[0m\u001b[0;34m(\u001b[0m\u001b[0;34m'GPU device not found'\u001b[0m\u001b[0;34m)\u001b[0m\u001b[0;34m\u001b[0m\u001b[0;34m\u001b[0m\u001b[0m\n\u001b[0m\u001b[1;32m      4\u001b[0m \u001b[0mprint\u001b[0m\u001b[0;34m(\u001b[0m\u001b[0;34m'Found GPU at: {}'\u001b[0m\u001b[0;34m.\u001b[0m\u001b[0mformat\u001b[0m\u001b[0;34m(\u001b[0m\u001b[0mdevice_name\u001b[0m\u001b[0;34m)\u001b[0m\u001b[0;34m)\u001b[0m\u001b[0;34m\u001b[0m\u001b[0;34m\u001b[0m\u001b[0m\n",
            "\u001b[0;31mSystemError\u001b[0m: GPU device not found"
          ]
        }
      ]
    },
    {
      "cell_type": "code",
      "source": [
        "import pandas as pd\n",
        "df = pd.read_csv('/content/drive/MyDrive/datasets/allHousesFilled.csv')\n",
        "df.head()"
      ],
      "metadata": {
        "id": "piyK52EKlOom",
        "colab": {
          "base_uri": "https://localhost:8080/",
          "height": 377
        },
        "outputId": "3d1ecda2-8649-47cd-bc5d-20a1aee037b0"
      },
      "id": "piyK52EKlOom",
      "execution_count": 19,
      "outputs": [
        {
          "output_type": "execute_result",
          "data": {
            "text/plain": [
              "   HouseNum   TimeSin       TimeCos  DayNumSin  DayNumCos  MonthSin  MonthCos  \\\n",
              "0       1.0 -0.500000 -8.660254e-01   0.974928  -0.222521 -0.866025       0.5   \n",
              "1       1.0 -0.707107 -7.071068e-01   0.974928  -0.222521 -0.866025       0.5   \n",
              "2       1.0 -0.866025 -5.000000e-01   0.974928  -0.222521 -0.866025       0.5   \n",
              "3       1.0 -0.965926 -2.588190e-01   0.974928  -0.222521 -0.866025       0.5   \n",
              "4       1.0 -1.000000 -1.836970e-16   0.974928  -0.222521 -0.866025       0.5   \n",
              "\n",
              "   RealTemp  ApparTemp  Humid  ...  Type_END OF TERRACE  Type_FLAT  \\\n",
              "0  0.792136   0.392199   0.59  ...                  0.0        0.0   \n",
              "1  0.607125   0.255182   0.65  ...                  0.0        0.0   \n",
              "2  0.311106   0.011597   0.70  ...                  0.0        0.0   \n",
              "3  0.144596  -0.186317   0.66  ...                  0.0        0.0   \n",
              "4  0.015088  -0.384230   0.62  ...                  0.0        0.0   \n",
              "\n",
              "   Type_SEMI-DETACHED  Type_MID-TERRACE  NumRooms  NumOccupants     Total  \\\n",
              "0                 0.0               0.0       0.4           0.2  5.489313   \n",
              "1                 0.0               0.0       0.4           0.2  5.301124   \n",
              "2                 0.0               0.0       0.4           0.2  5.240370   \n",
              "3                 0.0               0.0       0.4           0.2  4.759992   \n",
              "4                 0.0               0.0       0.4           0.2  4.791903   \n",
              "\n",
              "   AlwaysOn  Intermit      HVAC  \n",
              "0  0.041201  0.001036  0.957763  \n",
              "1  0.095364  0.001536  0.903100  \n",
              "2  0.152939  0.001684  0.845377  \n",
              "3  0.097266  0.003417  0.899317  \n",
              "4  0.296886  0.100860  0.602254  \n",
              "\n",
              "[5 rows x 47 columns]"
            ],
            "text/html": [
              "\n",
              "  <div id=\"df-f5fc7040-43d4-4e0e-94f1-5f4c185e50a4\" class=\"colab-df-container\">\n",
              "    <div>\n",
              "<style scoped>\n",
              "    .dataframe tbody tr th:only-of-type {\n",
              "        vertical-align: middle;\n",
              "    }\n",
              "\n",
              "    .dataframe tbody tr th {\n",
              "        vertical-align: top;\n",
              "    }\n",
              "\n",
              "    .dataframe thead th {\n",
              "        text-align: right;\n",
              "    }\n",
              "</style>\n",
              "<table border=\"1\" class=\"dataframe\">\n",
              "  <thead>\n",
              "    <tr style=\"text-align: right;\">\n",
              "      <th></th>\n",
              "      <th>HouseNum</th>\n",
              "      <th>TimeSin</th>\n",
              "      <th>TimeCos</th>\n",
              "      <th>DayNumSin</th>\n",
              "      <th>DayNumCos</th>\n",
              "      <th>MonthSin</th>\n",
              "      <th>MonthCos</th>\n",
              "      <th>RealTemp</th>\n",
              "      <th>ApparTemp</th>\n",
              "      <th>Humid</th>\n",
              "      <th>...</th>\n",
              "      <th>Type_END OF TERRACE</th>\n",
              "      <th>Type_FLAT</th>\n",
              "      <th>Type_SEMI-DETACHED</th>\n",
              "      <th>Type_MID-TERRACE</th>\n",
              "      <th>NumRooms</th>\n",
              "      <th>NumOccupants</th>\n",
              "      <th>Total</th>\n",
              "      <th>AlwaysOn</th>\n",
              "      <th>Intermit</th>\n",
              "      <th>HVAC</th>\n",
              "    </tr>\n",
              "  </thead>\n",
              "  <tbody>\n",
              "    <tr>\n",
              "      <th>0</th>\n",
              "      <td>1.0</td>\n",
              "      <td>-0.500000</td>\n",
              "      <td>-8.660254e-01</td>\n",
              "      <td>0.974928</td>\n",
              "      <td>-0.222521</td>\n",
              "      <td>-0.866025</td>\n",
              "      <td>0.5</td>\n",
              "      <td>0.792136</td>\n",
              "      <td>0.392199</td>\n",
              "      <td>0.59</td>\n",
              "      <td>...</td>\n",
              "      <td>0.0</td>\n",
              "      <td>0.0</td>\n",
              "      <td>0.0</td>\n",
              "      <td>0.0</td>\n",
              "      <td>0.4</td>\n",
              "      <td>0.2</td>\n",
              "      <td>5.489313</td>\n",
              "      <td>0.041201</td>\n",
              "      <td>0.001036</td>\n",
              "      <td>0.957763</td>\n",
              "    </tr>\n",
              "    <tr>\n",
              "      <th>1</th>\n",
              "      <td>1.0</td>\n",
              "      <td>-0.707107</td>\n",
              "      <td>-7.071068e-01</td>\n",
              "      <td>0.974928</td>\n",
              "      <td>-0.222521</td>\n",
              "      <td>-0.866025</td>\n",
              "      <td>0.5</td>\n",
              "      <td>0.607125</td>\n",
              "      <td>0.255182</td>\n",
              "      <td>0.65</td>\n",
              "      <td>...</td>\n",
              "      <td>0.0</td>\n",
              "      <td>0.0</td>\n",
              "      <td>0.0</td>\n",
              "      <td>0.0</td>\n",
              "      <td>0.4</td>\n",
              "      <td>0.2</td>\n",
              "      <td>5.301124</td>\n",
              "      <td>0.095364</td>\n",
              "      <td>0.001536</td>\n",
              "      <td>0.903100</td>\n",
              "    </tr>\n",
              "    <tr>\n",
              "      <th>2</th>\n",
              "      <td>1.0</td>\n",
              "      <td>-0.866025</td>\n",
              "      <td>-5.000000e-01</td>\n",
              "      <td>0.974928</td>\n",
              "      <td>-0.222521</td>\n",
              "      <td>-0.866025</td>\n",
              "      <td>0.5</td>\n",
              "      <td>0.311106</td>\n",
              "      <td>0.011597</td>\n",
              "      <td>0.70</td>\n",
              "      <td>...</td>\n",
              "      <td>0.0</td>\n",
              "      <td>0.0</td>\n",
              "      <td>0.0</td>\n",
              "      <td>0.0</td>\n",
              "      <td>0.4</td>\n",
              "      <td>0.2</td>\n",
              "      <td>5.240370</td>\n",
              "      <td>0.152939</td>\n",
              "      <td>0.001684</td>\n",
              "      <td>0.845377</td>\n",
              "    </tr>\n",
              "    <tr>\n",
              "      <th>3</th>\n",
              "      <td>1.0</td>\n",
              "      <td>-0.965926</td>\n",
              "      <td>-2.588190e-01</td>\n",
              "      <td>0.974928</td>\n",
              "      <td>-0.222521</td>\n",
              "      <td>-0.866025</td>\n",
              "      <td>0.5</td>\n",
              "      <td>0.144596</td>\n",
              "      <td>-0.186317</td>\n",
              "      <td>0.66</td>\n",
              "      <td>...</td>\n",
              "      <td>0.0</td>\n",
              "      <td>0.0</td>\n",
              "      <td>0.0</td>\n",
              "      <td>0.0</td>\n",
              "      <td>0.4</td>\n",
              "      <td>0.2</td>\n",
              "      <td>4.759992</td>\n",
              "      <td>0.097266</td>\n",
              "      <td>0.003417</td>\n",
              "      <td>0.899317</td>\n",
              "    </tr>\n",
              "    <tr>\n",
              "      <th>4</th>\n",
              "      <td>1.0</td>\n",
              "      <td>-1.000000</td>\n",
              "      <td>-1.836970e-16</td>\n",
              "      <td>0.974928</td>\n",
              "      <td>-0.222521</td>\n",
              "      <td>-0.866025</td>\n",
              "      <td>0.5</td>\n",
              "      <td>0.015088</td>\n",
              "      <td>-0.384230</td>\n",
              "      <td>0.62</td>\n",
              "      <td>...</td>\n",
              "      <td>0.0</td>\n",
              "      <td>0.0</td>\n",
              "      <td>0.0</td>\n",
              "      <td>0.0</td>\n",
              "      <td>0.4</td>\n",
              "      <td>0.2</td>\n",
              "      <td>4.791903</td>\n",
              "      <td>0.296886</td>\n",
              "      <td>0.100860</td>\n",
              "      <td>0.602254</td>\n",
              "    </tr>\n",
              "  </tbody>\n",
              "</table>\n",
              "<p>5 rows × 47 columns</p>\n",
              "</div>\n",
              "    <div class=\"colab-df-buttons\">\n",
              "\n",
              "  <div class=\"colab-df-container\">\n",
              "    <button class=\"colab-df-convert\" onclick=\"convertToInteractive('df-f5fc7040-43d4-4e0e-94f1-5f4c185e50a4')\"\n",
              "            title=\"Convert this dataframe to an interactive table.\"\n",
              "            style=\"display:none;\">\n",
              "\n",
              "  <svg xmlns=\"http://www.w3.org/2000/svg\" height=\"24px\" viewBox=\"0 -960 960 960\">\n",
              "    <path d=\"M120-120v-720h720v720H120Zm60-500h600v-160H180v160Zm220 220h160v-160H400v160Zm0 220h160v-160H400v160ZM180-400h160v-160H180v160Zm440 0h160v-160H620v160ZM180-180h160v-160H180v160Zm440 0h160v-160H620v160Z\"/>\n",
              "  </svg>\n",
              "    </button>\n",
              "\n",
              "  <style>\n",
              "    .colab-df-container {\n",
              "      display:flex;\n",
              "      gap: 12px;\n",
              "    }\n",
              "\n",
              "    .colab-df-convert {\n",
              "      background-color: #E8F0FE;\n",
              "      border: none;\n",
              "      border-radius: 50%;\n",
              "      cursor: pointer;\n",
              "      display: none;\n",
              "      fill: #1967D2;\n",
              "      height: 32px;\n",
              "      padding: 0 0 0 0;\n",
              "      width: 32px;\n",
              "    }\n",
              "\n",
              "    .colab-df-convert:hover {\n",
              "      background-color: #E2EBFA;\n",
              "      box-shadow: 0px 1px 2px rgba(60, 64, 67, 0.3), 0px 1px 3px 1px rgba(60, 64, 67, 0.15);\n",
              "      fill: #174EA6;\n",
              "    }\n",
              "\n",
              "    .colab-df-buttons div {\n",
              "      margin-bottom: 4px;\n",
              "    }\n",
              "\n",
              "    [theme=dark] .colab-df-convert {\n",
              "      background-color: #3B4455;\n",
              "      fill: #D2E3FC;\n",
              "    }\n",
              "\n",
              "    [theme=dark] .colab-df-convert:hover {\n",
              "      background-color: #434B5C;\n",
              "      box-shadow: 0px 1px 3px 1px rgba(0, 0, 0, 0.15);\n",
              "      filter: drop-shadow(0px 1px 2px rgba(0, 0, 0, 0.3));\n",
              "      fill: #FFFFFF;\n",
              "    }\n",
              "  </style>\n",
              "\n",
              "    <script>\n",
              "      const buttonEl =\n",
              "        document.querySelector('#df-f5fc7040-43d4-4e0e-94f1-5f4c185e50a4 button.colab-df-convert');\n",
              "      buttonEl.style.display =\n",
              "        google.colab.kernel.accessAllowed ? 'block' : 'none';\n",
              "\n",
              "      async function convertToInteractive(key) {\n",
              "        const element = document.querySelector('#df-f5fc7040-43d4-4e0e-94f1-5f4c185e50a4');\n",
              "        const dataTable =\n",
              "          await google.colab.kernel.invokeFunction('convertToInteractive',\n",
              "                                                    [key], {});\n",
              "        if (!dataTable) return;\n",
              "\n",
              "        const docLinkHtml = 'Like what you see? Visit the ' +\n",
              "          '<a target=\"_blank\" href=https://colab.research.google.com/notebooks/data_table.ipynb>data table notebook</a>'\n",
              "          + ' to learn more about interactive tables.';\n",
              "        element.innerHTML = '';\n",
              "        dataTable['output_type'] = 'display_data';\n",
              "        await google.colab.output.renderOutput(dataTable, element);\n",
              "        const docLink = document.createElement('div');\n",
              "        docLink.innerHTML = docLinkHtml;\n",
              "        element.appendChild(docLink);\n",
              "      }\n",
              "    </script>\n",
              "  </div>\n",
              "\n",
              "\n",
              "<div id=\"df-f88a6297-213c-4324-a2d9-b9243b015cb9\">\n",
              "  <button class=\"colab-df-quickchart\" onclick=\"quickchart('df-f88a6297-213c-4324-a2d9-b9243b015cb9')\"\n",
              "            title=\"Suggest charts\"\n",
              "            style=\"display:none;\">\n",
              "\n",
              "<svg xmlns=\"http://www.w3.org/2000/svg\" height=\"24px\"viewBox=\"0 0 24 24\"\n",
              "     width=\"24px\">\n",
              "    <g>\n",
              "        <path d=\"M19 3H5c-1.1 0-2 .9-2 2v14c0 1.1.9 2 2 2h14c1.1 0 2-.9 2-2V5c0-1.1-.9-2-2-2zM9 17H7v-7h2v7zm4 0h-2V7h2v10zm4 0h-2v-4h2v4z\"/>\n",
              "    </g>\n",
              "</svg>\n",
              "  </button>\n",
              "\n",
              "<style>\n",
              "  .colab-df-quickchart {\n",
              "      --bg-color: #E8F0FE;\n",
              "      --fill-color: #1967D2;\n",
              "      --hover-bg-color: #E2EBFA;\n",
              "      --hover-fill-color: #174EA6;\n",
              "      --disabled-fill-color: #AAA;\n",
              "      --disabled-bg-color: #DDD;\n",
              "  }\n",
              "\n",
              "  [theme=dark] .colab-df-quickchart {\n",
              "      --bg-color: #3B4455;\n",
              "      --fill-color: #D2E3FC;\n",
              "      --hover-bg-color: #434B5C;\n",
              "      --hover-fill-color: #FFFFFF;\n",
              "      --disabled-bg-color: #3B4455;\n",
              "      --disabled-fill-color: #666;\n",
              "  }\n",
              "\n",
              "  .colab-df-quickchart {\n",
              "    background-color: var(--bg-color);\n",
              "    border: none;\n",
              "    border-radius: 50%;\n",
              "    cursor: pointer;\n",
              "    display: none;\n",
              "    fill: var(--fill-color);\n",
              "    height: 32px;\n",
              "    padding: 0;\n",
              "    width: 32px;\n",
              "  }\n",
              "\n",
              "  .colab-df-quickchart:hover {\n",
              "    background-color: var(--hover-bg-color);\n",
              "    box-shadow: 0 1px 2px rgba(60, 64, 67, 0.3), 0 1px 3px 1px rgba(60, 64, 67, 0.15);\n",
              "    fill: var(--button-hover-fill-color);\n",
              "  }\n",
              "\n",
              "  .colab-df-quickchart-complete:disabled,\n",
              "  .colab-df-quickchart-complete:disabled:hover {\n",
              "    background-color: var(--disabled-bg-color);\n",
              "    fill: var(--disabled-fill-color);\n",
              "    box-shadow: none;\n",
              "  }\n",
              "\n",
              "  .colab-df-spinner {\n",
              "    border: 2px solid var(--fill-color);\n",
              "    border-color: transparent;\n",
              "    border-bottom-color: var(--fill-color);\n",
              "    animation:\n",
              "      spin 1s steps(1) infinite;\n",
              "  }\n",
              "\n",
              "  @keyframes spin {\n",
              "    0% {\n",
              "      border-color: transparent;\n",
              "      border-bottom-color: var(--fill-color);\n",
              "      border-left-color: var(--fill-color);\n",
              "    }\n",
              "    20% {\n",
              "      border-color: transparent;\n",
              "      border-left-color: var(--fill-color);\n",
              "      border-top-color: var(--fill-color);\n",
              "    }\n",
              "    30% {\n",
              "      border-color: transparent;\n",
              "      border-left-color: var(--fill-color);\n",
              "      border-top-color: var(--fill-color);\n",
              "      border-right-color: var(--fill-color);\n",
              "    }\n",
              "    40% {\n",
              "      border-color: transparent;\n",
              "      border-right-color: var(--fill-color);\n",
              "      border-top-color: var(--fill-color);\n",
              "    }\n",
              "    60% {\n",
              "      border-color: transparent;\n",
              "      border-right-color: var(--fill-color);\n",
              "    }\n",
              "    80% {\n",
              "      border-color: transparent;\n",
              "      border-right-color: var(--fill-color);\n",
              "      border-bottom-color: var(--fill-color);\n",
              "    }\n",
              "    90% {\n",
              "      border-color: transparent;\n",
              "      border-bottom-color: var(--fill-color);\n",
              "    }\n",
              "  }\n",
              "</style>\n",
              "\n",
              "  <script>\n",
              "    async function quickchart(key) {\n",
              "      const quickchartButtonEl =\n",
              "        document.querySelector('#' + key + ' button');\n",
              "      quickchartButtonEl.disabled = true;  // To prevent multiple clicks.\n",
              "      quickchartButtonEl.classList.add('colab-df-spinner');\n",
              "      try {\n",
              "        const charts = await google.colab.kernel.invokeFunction(\n",
              "            'suggestCharts', [key], {});\n",
              "      } catch (error) {\n",
              "        console.error('Error during call to suggestCharts:', error);\n",
              "      }\n",
              "      quickchartButtonEl.classList.remove('colab-df-spinner');\n",
              "      quickchartButtonEl.classList.add('colab-df-quickchart-complete');\n",
              "    }\n",
              "    (() => {\n",
              "      let quickchartButtonEl =\n",
              "        document.querySelector('#df-f88a6297-213c-4324-a2d9-b9243b015cb9 button');\n",
              "      quickchartButtonEl.style.display =\n",
              "        google.colab.kernel.accessAllowed ? 'block' : 'none';\n",
              "    })();\n",
              "  </script>\n",
              "</div>\n",
              "\n",
              "    </div>\n",
              "  </div>\n"
            ],
            "application/vnd.google.colaboratory.intrinsic+json": {
              "type": "dataframe",
              "variable_name": "df"
            }
          },
          "metadata": {},
          "execution_count": 19
        }
      ]
    },
    {
      "cell_type": "code",
      "source": [
        "# Metadata for the windowing and network\n",
        "num_device_categories = 3\n",
        "num_input_parameters = 46\n",
        "num_recur_hours = 24"
      ],
      "metadata": {
        "id": "fNF4BGsOz__A"
      },
      "id": "fNF4BGsOz__A",
      "execution_count": 20,
      "outputs": []
    },
    {
      "cell_type": "code",
      "execution_count": null,
      "id": "e5a31964-e7f0-42ca-8c18-31f46b19404e",
      "metadata": {
        "id": "e5a31964-e7f0-42ca-8c18-31f46b19404e"
      },
      "outputs": [],
      "source": [
        "# # Only run this to recreate windows\n",
        "# # This creates a windowing function\n",
        "# def create_sequential_windows(group, window_size):\n",
        "#     # Check to see if there is enough data\n",
        "#     if group.shape[0] < window_size:\n",
        "#         return None\n",
        "\n",
        "#     windows = []\n",
        "#     start_index = 0\n",
        "#     while start_index + window_size <= group.shape[0]:\n",
        "#         window = group.iloc[start_index:start_index + window_size].copy()\n",
        "#         windows.append(window)\n",
        "#         start_index += 1\n",
        "\n",
        "#     return windows\n",
        "\n",
        "# # Apply the windowing function\n",
        "# sequential_windows = df.groupby('HouseNum').apply(lambda x: create_sequential_windows(x.drop(columns=['HouseNum']), num_recur_hours))\n",
        "# all_windows = [window for sublist in sequential_windows if sublist is not None for window in sublist]\n",
        "\n",
        "# # Shuffle the windows\n",
        "# all_windows = shuffle(all_windows)\n",
        "# if all_windows:\n",
        "#     windows_array = np.array([window.values for window in all_windows])\n",
        "\n",
        "#     # Print the shape for confirmation\n",
        "#     print(\"Shape of the array:\", windows_array.shape)\n",
        "\n",
        "#     # Convert to a TensorFlow tensor\n",
        "#     windows_tensor = tf.convert_to_tensor(windows_array, dtype=tf.float32)\n",
        "\n",
        "#     # Print the shape of the tensor\n",
        "#     print(\"Shape of the tensor:\", windows_tensor.shape)\n",
        "# else:\n",
        "#     print(\"No windows were created.\")\n",
        "\n",
        "# # Save the windowed data\n",
        "# np.save('/content/drive/MyDrive/datasets/CreatedWindows.npy', windows_array)"
      ]
    },
    {
      "cell_type": "code",
      "source": [
        "windows_array = np.load('/content/drive/MyDrive/datasets/CreatedWindows.npy')"
      ],
      "metadata": {
        "id": "E7wpnYST_GpQ"
      },
      "id": "E7wpnYST_GpQ",
      "execution_count": 21,
      "outputs": []
    },
    {
      "cell_type": "code",
      "source": [
        "checkpoint_path = \"/content/drive/MyDrive/datasets/training_1/cp-{epoch:04d}.ckpt\"\n",
        "\n",
        "# Making a callback to save model weights every epoch\n",
        "cp_callback = tf.keras.callbacks.ModelCheckpoint(\n",
        "    filepath=checkpoint_path,\n",
        "    verbose=1,\n",
        "    save_weights_only=True,\n",
        "    save_freq='epoch')\n"
      ],
      "metadata": {
        "id": "6irzqxO46BHL"
      },
      "id": "6irzqxO46BHL",
      "execution_count": 22,
      "outputs": []
    },
    {
      "cell_type": "code",
      "execution_count": 23,
      "id": "f8e36870-183f-44d6-80ac-0093dac02165",
      "metadata": {
        "id": "f8e36870-183f-44d6-80ac-0093dac02165",
        "colab": {
          "base_uri": "https://localhost:8080/"
        },
        "outputId": "b9f39cfa-d321-4dcf-85e7-d1f389617a97"
      },
      "outputs": [
        {
          "output_type": "stream",
          "name": "stdout",
          "text": [
            "Model: \"sequential_2\"\n",
            "_________________________________________________________________\n",
            " Layer (type)                Output Shape              Param #   \n",
            "=================================================================\n",
            " lstm_4 (LSTM)               (None, 24, 100)           57600     \n",
            "                                                                 \n",
            " dropout_4 (Dropout)         (None, 24, 100)           0         \n",
            "                                                                 \n",
            " lstm_5 (LSTM)               (None, 50)                30200     \n",
            "                                                                 \n",
            " dropout_5 (Dropout)         (None, 50)                0         \n",
            "                                                                 \n",
            " dense_2 (Dense)             (None, 3)                 153       \n",
            "                                                                 \n",
            "=================================================================\n",
            "Total params: 87953 (343.57 KB)\n",
            "Trainable params: 87953 (343.57 KB)\n",
            "Non-trainable params: 0 (0.00 Byte)\n",
            "_________________________________________________________________\n"
          ]
        }
      ],
      "source": [
        "# Two layer LSTM model\n",
        "model = Sequential([\n",
        "    LSTM(100, return_sequences=True, input_shape=(num_recur_hours, (num_input_parameters-num_device_categories))),\n",
        "    Dropout(0.2),\n",
        "    LSTM(50),\n",
        "    Dropout(0.2),\n",
        "    Dense(num_device_categories, activation='softmax')\n",
        "])\n",
        "\n",
        "# Adam optimizer, crossentropy loss\n",
        "model.compile(optimizer='adam', loss='categorical_crossentropy', metrics=['accuracy'])\n",
        "model.summary()"
      ]
    },
    {
      "cell_type": "code",
      "source": [
        "from sklearn.model_selection import train_test_split\n",
        "\n",
        "\n",
        "selected_features_tensor = windows_array[:, -1:, -3:]\n",
        "selected_features_tensor = np.array([np.squeeze(arr) for arr in selected_features_tensor])\n",
        "training_features_tensor = windows_array[:, :, :-3]\n",
        "\n",
        "print(\"Number of samples in selected_features_tensor:\", len(selected_features_tensor))\n",
        "print(\"Number of samples in training_features_tensor:\", training_features_tensor.shape[0])\n",
        "\n",
        "X_train, X_test, y_train, y_test = train_test_split(training_features_tensor, selected_features_tensor, test_size=0.2, random_state=42)\n",
        "\n",
        "print(X_train.shape)\n",
        "print(y_train.shape)\n",
        "\n"
      ],
      "metadata": {
        "id": "0qqQMmH1sBAQ",
        "colab": {
          "base_uri": "https://localhost:8080/"
        },
        "outputId": "bf62fd14-10f4-4ff9-cf71-093fc9b6e268"
      },
      "id": "0qqQMmH1sBAQ",
      "execution_count": 24,
      "outputs": [
        {
          "output_type": "stream",
          "name": "stdout",
          "text": [
            "Number of samples in selected_features_tensor: 247313\n",
            "Number of samples in training_features_tensor: 247313\n",
            "(197850, 24, 43)\n",
            "(197850, 3)\n"
          ]
        }
      ]
    },
    {
      "cell_type": "code",
      "source": [
        "checkpoint_dir =  '/content/drive/MyDrive/datasets/training_1/'\n",
        "latest_checkpoint = tf.train.latest_checkpoint(checkpoint_dir)\n",
        "if latest_checkpoint:\n",
        "    # Load both the model and the optimizer state\n",
        "    model.load_weights(latest_checkpoint)\n",
        "    print(\"Model restored from checkpoint: {}\".format(latest_checkpoint))\n",
        "    # Extract the last epoch number from the checkpoint filename if needed\n",
        "    import re\n",
        "    last_epoch = int(re.search(r'cp-(\\d{4}).ckpt', latest_checkpoint).group(1))\n",
        "else:\n",
        "    print(\"No checkpoint found. Initializing model from scratch.\")\n",
        "    last_epoch = 0\n",
        "\n",
        "print('Starting from epoch ' + str(last_epoch))\n"
      ],
      "metadata": {
        "id": "s_rsDHLx9u7Q",
        "colab": {
          "base_uri": "https://localhost:8080/"
        },
        "outputId": "bd537fbd-3055-46b8-b3e4-448a7adb84f3"
      },
      "id": "s_rsDHLx9u7Q",
      "execution_count": 26,
      "outputs": [
        {
          "output_type": "stream",
          "name": "stdout",
          "text": [
            "Model restored from checkpoint: /content/drive/MyDrive/datasets/training_1/cp-0040.ckpt\n",
            "Starting from epoch 40\n"
          ]
        }
      ]
    },
    {
      "cell_type": "code",
      "source": [
        "LSTM = model.fit(X_train, y_train, epochs=40, initial_epoch=last_epoch, batch_size=32, verbose=1, callbacks=[cp_callback], validation_split=0.2)"
      ],
      "metadata": {
        "id": "DyDpp89lD4Kg"
      },
      "id": "DyDpp89lD4Kg",
      "execution_count": 27,
      "outputs": []
    },
    {
      "cell_type": "code",
      "source": [
        "model.save('/content/drive/MyDrive/datasets/training_1/finalModel', save_format='tf')"
      ],
      "metadata": {
        "id": "rK9Uc8nCtlYW"
      },
      "id": "rK9Uc8nCtlYW",
      "execution_count": null,
      "outputs": []
    },
    {
      "cell_type": "code",
      "source": [
        "import tensorflow as tf\n",
        "from tensorflow.keras.models import load_model\n",
        "import numpy as np\n",
        "import matplotlib.pyplot as plt\n",
        "from sklearn.metrics import accuracy_score, precision_score, recall_score, f1_score\n",
        "import zipfile\n",
        "import os\n",
        "\n",
        "\n",
        "# Load the saved model\n",
        "model = load_model('/content/drive/MyDrive/datasets/training_1/finalModel')\n",
        "\n",
        "# Make predictions on the test data\n",
        "predictions = model.predict(X_test)\n"
      ],
      "metadata": {
        "colab": {
          "base_uri": "https://localhost:8080/",
          "height": 637
        },
        "id": "jQPAQwnhNYx2",
        "outputId": "34a596ff-02df-4f62-fd4f-269a8edaefb8"
      },
      "id": "jQPAQwnhNYx2",
      "execution_count": 32,
      "outputs": [
        {
          "output_type": "stream",
          "name": "stdout",
          "text": [
            "1546/1546 [==============================] - 22s 14ms/step\n",
            "Accuracy: 0.8968926268119605\n",
            "Precision: 0.8903936527419852\n",
            "Recall: 0.8968926268119605\n",
            "F1 Score: 0.8874343947483707\n"
          ]
        },
        {
          "output_type": "display_data",
          "data": {
            "text/plain": [
              "<Figure size 1000x600 with 1 Axes>"
            ],
            "image/png": "[encoded data removed]"
          },
          "metadata": {}
        }
      ]
    },
    {
      "cell_type": "code",
      "source": [
        "\n",
        "# for softmax convert predictions back to labels\n",
        "y_pred = predictions\n",
        "predicted_labels = np.argmax(predictions, axis=1)\n",
        "\n",
        "# You can calculate different performance metrics\n",
        "accuracy = accuracy_score(np.argmax(y_test, axis=1), predicted_labels)\n",
        "precision = precision_score(np.argmax(y_test, axis=1), predicted_labels, average='weighted')\n",
        "recall = recall_score(np.argmax(y_test, axis=1), predicted_labels, average='weighted')\n",
        "f1 = f1_score(np.argmax(y_test, axis=1), predicted_labels, average='weighted')\n",
        "\n",
        "print(\"Accuracy:\", accuracy)\n",
        "print(\"Precision:\", precision)\n",
        "print(\"Recall:\", recall)\n",
        "print(\"F1 Score:\", f1)\n",
        "\n",
        "\n"
      ],
      "metadata": {
        "colab": {
          "base_uri": "https://localhost:8080/"
        },
        "id": "CxRqjPXzS76P",
        "outputId": "77d66ef4-2cb5-4d96-b2fd-38e87000cb70"
      },
      "id": "CxRqjPXzS76P",
      "execution_count": 39,
      "outputs": [
        {
          "output_type": "stream",
          "name": "stdout",
          "text": [
            "Accuracy: 0.8968926268119605\n",
            "Precision: 0.8903936527419852\n",
            "Recall: 0.8968926268119605\n",
            "F1 Score: 0.8874343947483707\n"
          ]
        }
      ]
    },
    {
      "cell_type": "code",
      "source": [
        "from sklearn.model_selection import train_test_split\n",
        "from sklearn.multioutput import MultiOutputRegressor\n",
        "from sklearn.linear_model import ElasticNet\n",
        "from sklearn.preprocessing import PowerTransformer\n",
        "import numpy as np\n",
        "import pandas as pd\n",
        "\n",
        "def inverse_yeo_johnson(y, lambda_):\n",
        "    if lambda_ == 0:\n",
        "        return np.exp(y) - 1\n",
        "    else:\n",
        "        if y >= 0:\n",
        "            return (y * lambda_ + 1) ** (1 / lambda_) - 1\n",
        "        else:\n",
        "            return -((1 - y * (2 - lambda_)) ** (1 / (2 - lambda_)) - 1)\n",
        "\n",
        "\n",
        "# must be passed in as a Dataframe\n",
        "# total_energy_inverseYeoJohnson is the transformed values |\n",
        "# total_energy_actual is the real values for energy\n",
        "def calculate_total_inverse_yeo_johnson(total_df, lambda_value=-0.06419593996677918):\n",
        "    if 'Total' in total_df.columns:\n",
        "        total_energy_inverseYeoJohnson = pd.DataFrame(total_df['Total'])\n",
        "        total_energy_actual = total_energy_inverseYeoJohnson.apply(lambda row: inverse_yeo_johnson(row['Total'], lambda_value), axis=1)\n",
        "        total_energy_actual_df = pd.DataFrame(total_energy_actual, columns=['Total'])\n",
        "        total_energy_actual_array = total_energy_actual.values.flatten()\n",
        "\n",
        "        print(\"Original total values, [Total]:\\n\", total_energy_inverseYeoJohnson.sort_index().head(3))\n",
        "        print(\"coverted total energy test data\\n\", total_energy_actual_df.sort_index().head(3))\n",
        "\n",
        "        return total_energy_actual, total_energy_actual_df, total_energy_actual_array\n",
        "    else:\n",
        "        print(\"No 'Total' column found in the DataFrame.\")\n",
        "        return None, None, None\n",
        "\n",
        "\n",
        "\n",
        "\n",
        "def convert_fractions_to_actuals(fractions, total_energy_actual_array, columns_to_apply=['AlwaysOn', 'Intermit', 'HVAC']):\n",
        "    # Check if the required columns exist in fractions DataFrame\n",
        "    if isinstance(fractions, pd.DataFrame):\n",
        "        valid_columns = [col for col in columns_to_apply if col in fractions.columns]\n",
        "    else:\n",
        "        valid_columns = columns_to_apply\n",
        "        print(\"valid_columns\",valid_columns)\n",
        "\n",
        "    # If the required columns exist, apply the conversion\n",
        "    if valid_columns:\n",
        "        fractions_array = fractions[valid_columns].values if isinstance(fractions, pd.DataFrame) else fractions\n",
        "        fractions_actuals = fractions_array * total_energy_actual_array[:, np.newaxis]\n",
        "        if isinstance(fractions, pd.DataFrame):\n",
        "            fractions_actuals_df = pd.DataFrame(fractions_actuals, index=fractions.index, columns=valid_columns)\n",
        "            print(\"Result: fractions_actuals_df\\n\", fractions_actuals_df.sort_index().head(3))\n",
        "        else:\n",
        "            print(\"Result: fractions_actuals\\n\", fractions_actuals[:3])\n",
        "        return fractions_actuals, fractions_actuals_df if isinstance(fractions, pd.DataFrame) else None\n",
        "    else:\n",
        "        print(\"No valid columns found for conversion in ['AlwaysOn', 'Intermit', 'HVAC']\")\n",
        "        return None, None"
      ],
      "metadata": {
        "id": "-tHN92DYV-il"
      },
      "id": "-tHN92DYV-il",
      "execution_count": 40,
      "outputs": []
    },
    {
      "cell_type": "code",
      "source": [
        "from sklearn.metrics import mean_squared_error, r2_score, mean_absolute_error, mean_squared_error, mean_absolute_percentage_error\n",
        "import numpy as np\n",
        "\n",
        "# #make sure you convert to the same values\n",
        "def calculate_performance_metrics(y_test_actuals, y_pred_actuals_model, y_test_fracs=None, y_pred_fracs_model=None):\n",
        "    # Calculate performance metrics\n",
        "    metrics = {}\n",
        "\n",
        "    metrics['mse'] = mean_squared_error(y_test_actuals, y_pred_actuals_model, multioutput='raw_values')\n",
        "    metrics['rmse'] = np.sqrt(metrics['mse'])\n",
        "    metrics['mae'] = mean_absolute_error(y_test_actuals, y_pred_actuals_model, multioutput='raw_values')\n",
        "    metrics['mape'] = mean_absolute_percentage_error(y_test_actuals, y_pred_actuals_model, multioutput='raw_values')\n",
        "    metrics['r2'] = r2_score(y_test_actuals, y_pred_actuals_model, multioutput='raw_values')\n",
        "\n",
        "    # Calculate differences and absolute differences\n",
        "    differences = y_pred_actuals_model - y_test_actuals\n",
        "    absolute_differences = np.abs(differences)\n",
        "\n",
        "    # Calculate additional metrics\n",
        "    metrics['max_difference'] = np.max(differences, axis=0)\n",
        "    metrics['mean_difference'] = np.mean(differences, axis=0)\n",
        "    metrics['median_difference'] = np.median(differences, axis=0)\n",
        "    metrics['mean_absolute_difference'] = np.mean(absolute_differences, axis=0)\n",
        "    metrics['median_absolute_difference'] = np.median(absolute_differences, axis=0)\n",
        "\n",
        "\n",
        "    if y_test_fracs is not None and y_pred_fracs_model is not None:\n",
        "        # Now doing it in fractions\n",
        "        absolute_differences_fracs = np.abs(y_test_fracs - y_pred_fracs_model)\n",
        "        metrics['mean_absolute_difference_fracs'] = np.mean(absolute_differences_fracs, axis=0)\n",
        "        metrics['max_absolute_difference_fracs'] = np.max(absolute_differences_fracs, axis=0)\n",
        "\n",
        "    # Check if any of the predicted values are negative\n",
        "    negative_values = y_pred_actuals_model < 0\n",
        "    num_negative_values = np.sum(negative_values)\n",
        "    if num_negative_values > 0:\n",
        "        print(f\"Warning!!: {num_negative_values} predicted values are negative\")\n",
        "    return metrics\n",
        "\n",
        "def print_performance_metrics(metrics):\n",
        "    print(\"Y.head: \", Y.columns.to_list())\n",
        "    print(\"MSE per output:\", metrics['mse'])\n",
        "    print(\"RMSE per output:\", metrics['rmse'])\n",
        "    print(\"MAE per output:\", metrics['mae'])\n",
        "    print(\"MAPE per output:\", metrics['mape'])\n",
        "    print(\"R^2 per output:\", metrics['r2'])\n",
        "    print(\"Maximum Difference:\", metrics['max_difference'])\n",
        "    print(\"Mean Difference:\", metrics['mean_difference'])\n",
        "    print(\"Median Difference:\", metrics['median_difference'])\n",
        "    print(\"Mean Absolute Difference:\", metrics['mean_absolute_difference'])\n",
        "    print(\"Median Absolute Difference:\", metrics['median_absolute_difference'])\n",
        "\n",
        "    if 'mean_absolute_difference_fracs' in metrics:\n",
        "        print(\"Mean Absolute Difference in percentage(%): \", metrics['mean_absolute_difference_fracs'])\n",
        "        print(\"Maximum Absolute Difference in percentage(%): \", metrics['max_absolute_difference_fracs'])\n"
      ],
      "metadata": {
        "id": "vBjm54IbVkB4"
      },
      "id": "vBjm54IbVkB4",
      "execution_count": 41,
      "outputs": []
    },
    {
      "cell_type": "code",
      "source": [
        "import matplotlib.pyplot as plt\n",
        "\n",
        "def histogram_residuals(y_test_actuals, y_pred_actuals_model):\n",
        "    columns = ['AlwaysOn', 'Intermit', 'HVAC']\n",
        "\n",
        "    y_test_actuals_df = pd.DataFrame(y_test_actuals, columns=columns)\n",
        "    y_pred_actuals_model_df = pd.DataFrame(y_pred_actuals_model, columns=columns)\n",
        "\n",
        "    # Calculate residuals\n",
        "    residuals = y_test_actuals_df - y_pred_actuals_model_df\n",
        "\n",
        "    # calculate range based on the data, ignoring the extreme x% of values\n",
        "    # adjust this based on the range, just so we can see the results better\n",
        "    lower_percentile = residuals.quantile(0.05)#0.00\n",
        "    upper_percentile = residuals.quantile(0.95)\n",
        "\n",
        "    # Plot histogram of residuals for each target variable\n",
        "    for column in residuals.columns:\n",
        "        current_residuals = residuals[column]\n",
        "\n",
        "        range_min = lower_percentile[column]\n",
        "        range_max = upper_percentile[column]\n",
        "\n",
        "        # Create histogram of residuals\n",
        "        plt.figure(figsize=(8, 6))\n",
        "        plt.hist(current_residuals, bins=100, range=(range_min, range_max)) # range=(-1000, 1000)\n",
        "        plt.xlabel('Residuals')\n",
        "        plt.ylabel('Frequency')\n",
        "        plt.title(f'LSTM Histogram of Residuals - {column}')\n",
        "        plt.show()"
      ],
      "metadata": {
        "id": "0FjJvYjFVtb8"
      },
      "id": "0FjJvYjFVtb8",
      "execution_count": 116,
      "outputs": []
    },
    {
      "cell_type": "code",
      "source": [
        "column_names = list(df.columns[1:-3])\n",
        "X_test_copy = X_test[:, -1, :]\n",
        "X_test_copy\n",
        "X_test_df = pd.DataFrame(X_test_copy, columns=column_names)\n"
      ],
      "metadata": {
        "id": "hsVk5iLtdhvL"
      },
      "id": "hsVk5iLtdhvL",
      "execution_count": 108,
      "outputs": []
    },
    {
      "cell_type": "code",
      "source": [
        "y_column_names = list(df.columns[-3:])\n",
        "\n",
        "y_test_df = pd.DataFrame(y_test, columns=y_column_names)"
      ],
      "metadata": {
        "id": "10u-WH6-d0SA"
      },
      "id": "10u-WH6-d0SA",
      "execution_count": 110,
      "outputs": []
    },
    {
      "cell_type": "code",
      "source": [
        "total_energy_actual, total_energy_actual_df, total_energy_actual_array = calculate_total_inverse_yeo_johnson(X_test_df)\n",
        "y_test_actuals, y_test_actuals_df = convert_fractions_to_actuals(y_test_df, total_energy_actual_array)\n",
        "y_pred_actuals, y_test_actuals_df = convert_fractions_to_actuals(y_pred, total_energy_actual_array)\n",
        "calculate_performance_metrics(y_test_actuals, y_pred_actuals)\n"
      ],
      "metadata": {
        "colab": {
          "base_uri": "https://localhost:8080/"
        },
        "id": "aYsRqp0iWBUH",
        "outputId": "3554557e-6fec-4676-bacd-76b3458f79ed"
      },
      "id": "aYsRqp0iWBUH",
      "execution_count": 111,
      "outputs": [
        {
          "output_type": "stream",
          "name": "stdout",
          "text": [
            "Original total values, [Total]:\n",
            "       Total\n",
            "0  5.340162\n",
            "1  5.729140\n",
            "2  4.895691\n",
            "coverted total energy test data\n",
            "       Total\n",
            "0   690.757\n",
            "1  1263.788\n",
            "2   355.801\n",
            "Result: fractions_actuals_df\n",
            "    AlwaysOn  Intermit      HVAC\n",
            "0    59.310    91.427   540.020\n",
            "1    55.758     9.018  1199.012\n",
            "2    36.644    47.579   271.578\n",
            "valid_columns ['AlwaysOn', 'Intermit', 'HVAC']\n",
            "Result: fractions_actuals\n",
            " [[  31.14041314  187.32905851  472.2875824 ]\n",
            " [  36.44228094   25.7172806  1201.6283137 ]\n",
            " [  36.44107029   67.28620961  252.07369359]]\n"
          ]
        },
        {
          "output_type": "execute_result",
          "data": {
            "text/plain": [
              "{'mse': array([  823.68886987, 10685.58441808, 10937.54970803]),\n",
              " 'rmse': array([ 28.69998031, 103.3711005 , 104.58274097]),\n",
              " 'mae': array([16.36962661, 42.1411893 , 46.12332225]),\n",
              " 'mape': array([1.72182688e+15, 3.30618797e+15, 1.11042861e+13]),\n",
              " 'r2': array([0.73981177, 0.85418092, 0.92201142]),\n",
              " 'max_difference': array([ 674.66837662, 2329.61558028, 1532.81977067]),\n",
              " 'mean_difference': array([ 1.2674197 , -2.66571063,  1.39828378]),\n",
              " 'median_difference': array([1.28646807, 0.55610565, 0.96946082]),\n",
              " 'mean_absolute_difference': array([16.36962661, 42.1411893 , 46.12332225]),\n",
              " 'median_absolute_difference': array([10.28328943, 11.03258582, 17.29998964])}"
            ]
          },
          "metadata": {},
          "execution_count": 111
        }
      ]
    },
    {
      "cell_type": "code",
      "source": [
        "histogram_residuals(y_test_actuals, y_pred_actuals)"
      ],
      "metadata": {
        "colab": {
          "base_uri": "https://localhost:8080/",
          "height": 1000
        },
        "id": "3OXDugarhXHU",
        "outputId": "265a6cc2-ec51-4768-a07c-b1646c31e469"
      },
      "id": "3OXDugarhXHU",
      "execution_count": 117,
      "outputs": [
        {
          "output_type": "display_data",
          "data": {
            "text/plain": [
              "<Figure size 800x600 with 1 Axes>"
            ],
            "image/png": "[encoded data removed]"
          },
          "metadata": {}
        },
        {
          "output_type": "display_data",
          "data": {
            "text/plain": [
              "<Figure size 800x600 with 1 Axes>"
            ],
            "image/png": "[encoded data removed]"
          },
          "metadata": {}
        },
        {
          "output_type": "display_data",
          "data": {
            "text/plain": [
              "<Figure size 800x600 with 1 Axes>"
            ],
            "image/png": "[encoded data removed]"
          },
          "metadata": {}
        }
      ]
    },
    {
      "cell_type": "code",
      "source": [],
      "metadata": {
        "id": "VUgrElmHhYfa"
      },
      "id": "VUgrElmHhYfa",
      "execution_count": null,
      "outputs": []
    }
  ],
  "metadata": {
    "kernelspec": {
      "display_name": "Python 3",
      "name": "python3"
    },
    "language_info": {
      "codemirror_mode": {
        "name": "ipython",
        "version": 3
      },
      "file_extension": ".py",
      "mimetype": "text/x-python",
      "name": "python",
      "nbconvert_exporter": "python",
      "pygments_lexer": "ipython3",
      "version": "3.8.18"
    },
    "colab": {
      "provenance": [],
      "gpuType": "T4"
    },
    "accelerator": "GPU"
  },
  "nbformat": 4,
  "nbformat_minor": 5
}